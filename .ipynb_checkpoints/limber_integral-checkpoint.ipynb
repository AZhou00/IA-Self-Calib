{
 "cells": [
  {
   "cell_type": "code",
   "execution_count": 4,
   "metadata": {},
   "outputs": [
    {
     "name": "stdout",
     "output_type": "stream",
     "text": [
      "Overwriting limber_integral.py\n"
     ]
    }
   ],
   "source": [
    "%%writefile 'limber_integral.py'\n",
    "def limber_integral(Del_mg,limber_weight,chi_list,k_list,z_list,ell_list):\n",
    "    \"\"\"\n",
    "    - compute Integral(Del_mg(k=l/chi(z))*limber_weight)dz\n",
    "    - all functions of z takes value on z_list (need to interpolate first)\n",
    "    - z_list must be uniform\n",
    "    - this method uses interpolation (default:cubic)\n",
    "    \n",
    "    \"\"\"\n",
    "    import numpy as np\n",
    "    from scipy import interpolate\n",
    "\n",
    "    if abs((z_list[1]-z_list[0])/(z_list[-1]-z_list[-2])-1) >= 0.01: raise Exception('nonuniform z_list detected >=1%')\n",
    "    \n",
    "    z_interval = z_list[1]-z_list[0]\n",
    "    C_l = np.zeros(len(ell_list))\n",
    "    \n",
    "    for z_index in range(len(z_list)):\n",
    "        temp_integrand = z_interval*Del_mg[z_index]*limber_weight[z_index]\n",
    "        temp_ell_coord = k_list*chi_list[z_index]\n",
    "        C_l_increment_function = interpolate.interp1d(temp_ell_coord,temp_integrand,bounds_error=False,fill_value=0,kind='linear')\n",
    "        C_l += C_l_increment_function(ell_list)\n",
    "\n",
    "    return 2*np.pi*np.pi*C_l/(ell_list**3)\n"
   ]
  },
  {
   "cell_type": "code",
   "execution_count": null,
   "metadata": {},
   "outputs": [],
   "source": []
  }
 ],
 "metadata": {
  "kernelspec": {
   "display_name": "Python 3",
   "language": "python",
   "name": "python3"
  },
  "language_info": {
   "codemirror_mode": {
    "name": "ipython",
    "version": 3
   },
   "file_extension": ".py",
   "mimetype": "text/x-python",
   "name": "python",
   "nbconvert_exporter": "python",
   "pygments_lexer": "ipython3",
   "version": "3.8.1"
  }
 },
 "nbformat": 4,
 "nbformat_minor": 4
}
