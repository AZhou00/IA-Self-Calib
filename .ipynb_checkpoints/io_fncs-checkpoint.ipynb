{
 "cells": [
  {
   "cell_type": "code",
   "execution_count": 30,
   "metadata": {},
   "outputs": [
    {
     "name": "stdout",
     "output_type": "stream",
     "text": [
      "Overwriting io_fncs.py\n"
     ]
    }
   ],
   "source": [
    "%%writefile io_fncs.py\n",
    "\n",
    "def create_dir(new_folder_path):\n",
    "    \"\"\"\n",
    "    create a directory if it does not exist.\n",
    "    \"\"\"\n",
    "    import os\n",
    "    if not os.path.exists(new_folder_path):\n",
    "        os.makedirs(new_folder_path)\n",
    "    return\n",
    "\n",
    "def append_to_file(filename,row,delimeter=' '):\n",
    "    \"\"\"\n",
    "    append row to the file 'filename'. \n",
    "    'row' should be a numpy array.\n",
    "    no end-of-the-line delimeter\n",
    "    \n",
    "    \"\"\"\n",
    "    import numpy as np\n",
    "    with open(filename,'a') as f:\n",
    "        for index,el in enumerate(row):\n",
    "            if index != (len(row)-1):\n",
    "                f.write(str(el)+delimeter)\n",
    "            else:\n",
    "                f.write(str(el))\n",
    "            #no end of the line delimeter\n",
    "        f.write(\"\\n\")\n",
    "    return\n",
    "\n",
    "def load_num_file(filename,delimeter=' '):\n",
    "    \"\"\"\n",
    "    load a numeric txt file. floats only.\n",
    "    \"\"\"\n",
    "    with open(filename,'rb') as f:\n",
    "        out = np.loadtxt(f,delimiter = delimeter) \n",
    "    return out\n",
    "\n",
    "def save_config_file(filename,var_names):\n",
    "    \"\"\"\n",
    "    var_names: ['var1',var1,'var2',var2,'var3',var3,...]\n",
    "    write to files:\n",
    "    'var1' = var1\n",
    "    'var2' = var2\n",
    "    ...\n",
    "    - delete pre-existing file if any.\n",
    "    \"\"\"\n",
    "    import numpy as np\n",
    "    with open(filename,'w') as f:\n",
    "        if len(var_names)%2 != 0: raise Exception('variable names not paired correctly')\n",
    "        index = 0\n",
    "        for index in range(len(var_names)):\n",
    "            if index%2 == 0:\n",
    "                name  = str(var_names[index])\n",
    "                value = str(var_names[index+1])\n",
    "                f.write(name+' = '+value)\n",
    "                f.write(\"\\n\")\n",
    "    return\n"
   ]
  },
  {
   "cell_type": "code",
   "execution_count": null,
   "metadata": {},
   "outputs": [],
   "source": []
  }
 ],
 "metadata": {
  "kernelspec": {
   "display_name": "Python 3",
   "language": "python",
   "name": "python3"
  },
  "language_info": {
   "codemirror_mode": {
    "name": "ipython",
    "version": 3
   },
   "file_extension": ".py",
   "mimetype": "text/x-python",
   "name": "python",
   "nbconvert_exporter": "python",
   "pygments_lexer": "ipython3",
   "version": "3.8.3"
  }
 },
 "nbformat": 4,
 "nbformat_minor": 4
}
