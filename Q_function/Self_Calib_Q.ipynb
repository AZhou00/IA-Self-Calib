{
 "cells": [
  {
   "cell_type": "code",
   "execution_count": 1,
   "metadata": {},
   "outputs": [],
   "source": [
    "import numpy as np\n",
    "import scipy as sp\n",
    "import matplotlib.pyplot as plt\n",
    "import scipy.integrate as intg"
   ]
  },
  {
   "cell_type": "markdown",
   "metadata": {},
   "source": [
    "### This code follows the Zhang 2018 paper on IA self-calibration\n",
    "\n",
    "#### - the \"chi's\" are all computed in unit of c/H0"
   ]
  },
  {
   "cell_type": "code",
   "execution_count": null,
   "metadata": {},
   "outputs": [],
   "source": [
    "#constants\n",
    "Omega0 = 0.3 #present day matter density in unit of critical density\n",
    "OmegaLambda = 0.7 \n",
    "Omegak = 1-Omega0-OmegaLambda\n",
    "\n",
    "deltaz = 0.2 #redshift bin width\n",
    "z_limit = 20\n",
    "\n",
    "#functions\n",
    "def z_i_center(i): #the center for the ith redshift bin\n",
    "    return 0.2*(i+1)"
   ]
  },
  {
   "cell_type": "code",
   "execution_count": null,
   "metadata": {},
   "outputs": [],
   "source": [
    "#comoving distance function, in unit of c/H0\n",
    "#Troxel and Ishak 2014 equation (8) without the factor of H0\n",
    "def chi_integrand(z):\n",
    "    #import numpy as np\n",
    "    return 1/np.sqrt(Omega0*(1+z)**3+Omegak*(1+z)**2+OmegaLambda)\n",
    "def chi(z):\n",
    "    #import numpy as np\n",
    "    #import scipy.integrate as intg\n",
    "    return intg.quad(chi_integrand,0,z)[0]\n",
    "z_test = np.linspace(0,z_limit,500)\n",
    "chi_test = np.array([])\n",
    "for z in z_test: chi_test = np.append(chi_test,chi(z))\n",
    "plt.plot(z_test, chi_test)\n",
    "plt.xlabel('redshift z')\n",
    "plt.ylabel('comoving distance chi(z) \\n ; Omega0=%1.2f, OmegaLambda=%1.2f' %(Omega0,OmegaLambda))\n",
    "plt.show()"
   ]
  },
  {
   "cell_type": "code",
   "execution_count": 4,
   "metadata": {},
   "outputs": [],
   "source": [
    "#Gaussian Photo-Z PDF\n",
    "def sigma_p(z):\n",
    "    #Zhang 2018 discusses when 0.05->0.03 accuracy improves by 2.3x on page 7 bottom right\n",
    "    return 0.05*(1+z)\n",
    "def photozPDF(ztrue,zphoto):\n",
    "    #??? The photo-z PDF has sigma_p(z), is it sigma_p(ztrue) or sigma_p(zphoto)?\n",
    "    return 1/(np.sqrt(np.pi)*sigma_p(ztrue))*np.exp(-((zphoto-ztrue)/sigma_p(ztrue))**2)\n",
    "# #testing the gaussian PDF normalization\n",
    "# def gaussian_test(x,center=3,width=4):\n",
    "#     import numpy as np\n",
    "#     return 1/(np.sqrt(np.pi)*width)*np.exp(-((x-center)/width)**2)\n",
    "# z_test = np.linspace(-10,10,500)\n",
    "# n_z_test = gaussian_test(z_test,3,4)\n",
    "# plt.ylim(0,0.3)\n",
    "# plt.plot(z_test, n_z_test)\n",
    "# intg.quad(gaussian_test,-100,100)"
   ]
  },
  {
   "cell_type": "code",
   "execution_count": 5,
   "metadata": {},
   "outputs": [],
   "source": [
    "#Lensing kernel\n",
    "def W_L(z_L,z_G):\n",
    "    if z_L<z_G:\n",
    "        return 3*Omega0/2 * (1+z_L)*chi(z_L)*(1-chi(z_L)/chi(z_G))\n",
    "    else: return 0"
   ]
  },
  {
   "cell_type": "code",
   "execution_count": 27,
   "metadata": {},
   "outputs": [
    {
     "name": "stdout",
     "output_type": "stream",
     "text": [
      "calculating redshift bin 1.10 - 1.30\n"
     ]
    },
    {
     "ename": "TypeError",
     "evalue": "tplquad() missing 5 required positional arguments: 'b', 'gfun', 'hfun', 'qfun', and 'rfun'",
     "output_type": "error",
     "traceback": [
      "\u001b[0;31m---------------------------------------------------------------------------\u001b[0m",
      "\u001b[0;31mTypeError\u001b[0m                                 Traceback (most recent call last)",
      "\u001b[0;32m<ipython-input-27-37a63bbe1b1c>\u001b[0m in \u001b[0;36m<module>\u001b[0;34m\u001b[0m\n\u001b[1;32m     37\u001b[0m \u001b[0;31m#     return intg.nquad(upper_integrand,[[0,z_limit],[z_lowerbound,z_upperbound],[z_lowerbound,z_upperbound],[0,z_limit]])\u001b[0m\u001b[0;34m\u001b[0m\u001b[0;34m\u001b[0m\u001b[0;34m\u001b[0m\u001b[0m\n\u001b[1;32m     38\u001b[0m \u001b[0;34m\u001b[0m\u001b[0m\n\u001b[0;32m---> 39\u001b[0;31m \u001b[0mintg\u001b[0m\u001b[0;34m.\u001b[0m\u001b[0mtplquad\u001b[0m\u001b[0;34m(\u001b[0m\u001b[0mupper_integrand\u001b[0m\u001b[0;34m,\u001b[0m\u001b[0;34m[\u001b[0m\u001b[0;34m[\u001b[0m\u001b[0;36m0\u001b[0m\u001b[0;34m,\u001b[0m\u001b[0mz_limit\u001b[0m\u001b[0;34m]\u001b[0m\u001b[0;34m,\u001b[0m\u001b[0;34m[\u001b[0m\u001b[0mz_lowerbound\u001b[0m\u001b[0;34m,\u001b[0m\u001b[0mz_upperbound\u001b[0m\u001b[0;34m]\u001b[0m\u001b[0;34m,\u001b[0m\u001b[0;34m[\u001b[0m\u001b[0mz_lowerbound\u001b[0m\u001b[0;34m,\u001b[0m\u001b[0mz_upperbound\u001b[0m\u001b[0;34m]\u001b[0m\u001b[0;34m,\u001b[0m\u001b[0;34m[\u001b[0m\u001b[0;36m0\u001b[0m\u001b[0;34m,\u001b[0m\u001b[0mz_limit\u001b[0m\u001b[0;34m]\u001b[0m\u001b[0;34m]\u001b[0m\u001b[0;34m)\u001b[0m\u001b[0;34m\u001b[0m\u001b[0;34m\u001b[0m\u001b[0m\n\u001b[0m\u001b[1;32m     40\u001b[0m \u001b[0;31m# def upper_integrand(x1,x2,x3,x4):\u001b[0m\u001b[0;34m\u001b[0m\u001b[0;34m\u001b[0m\u001b[0;34m\u001b[0m\u001b[0m\n\u001b[1;32m     41\u001b[0m \u001b[0;31m#     return x4\u001b[0m\u001b[0;34m\u001b[0m\u001b[0;34m\u001b[0m\u001b[0;34m\u001b[0m\u001b[0m\n",
      "\u001b[0;31mTypeError\u001b[0m: tplquad() missing 5 required positional arguments: 'b', 'gfun', 'hfun', 'qfun', and 'rfun'"
     ]
    }
   ],
   "source": [
    "#The Q function is approximately eta (Appendix B eqn B5) ~ eta function\n",
    "#Computing eta\n",
    "    #1. determine a redshift bin of interest, width 0.2\n",
    "    #2. normalize the n(z) distribution\n",
    "    #3. calculating upper and lower integral, and divide\n",
    "i = 5\n",
    "z_lowerbound = z_i_center(i)-deltaz/2\n",
    "z_upperbound = z_i_center(i)+deltaz/2\n",
    "print(\"calculating redshift bin %1.2f - %1.2f\" %(z_lowerbound,z_upperbound))\n",
    "\n",
    "#redshift distributions\n",
    "def n_z(z):\n",
    "    return z*z*np.exp(-z/0.5)\n",
    "#galaxy distribution normalized in bin i    \n",
    "n_z_i_norm = intg.quad(n_z,z_lowerbound,z_upperbound)\n",
    "def n_z_i(z):\n",
    "    return z*z*np.exp(-z/0.5)/n_z_i_norm\n",
    "#galaxy distribution normalized from 0 to infinity~z_limit\n",
    "n_z_all_norm = intg.quad(n_z,0,z_limit)\n",
    "def n_z_all(z):\n",
    "    return z*z*np.exp(-z/0.5)/n_z_all_norm\n",
    "    \n",
    "z_intg_range = np.linspace(0,z_limit,20)\n",
    "\n",
    "for z in z_intg_range:\n",
    "    \n",
    "def upper_integrand(z_G,zphoto_g,zphoto_G,z): \n",
    "    #Need z_L, and z_g from global scope\n",
    "    #setting z_L ~ z_g = z\n",
    "\n",
    "    #defined for the ith redshift bin\n",
    "    #the integration is performed on zphoto_g,z_G,and zphoto_G, after the integration, the dependency is on z_L ~= z_g only.\n",
    "    #factor of 2 included\n",
    "    if zphoto_G<zphoto_g:\n",
    "        #return 2*W_L(z_L,z_G)*photozPDF(z_G,zphoto_G)*photozPDF(z_g,zphoto_g)*n_z_i(zphoto_G)*n_z_i(zphoto_g)\n",
    "        return 2*W_L(z,z_G)*photozPDF(z_G,zphoto_G)*photozPDF(z,zphoto_g)*n_z_i(zphoto_G)*n_z_i(zphoto_g)\n",
    "    else: \n",
    "        return 0\n",
    "# def upper_integral():\n",
    "#     #defined for the ith redshift bin\n",
    "#     return intg.nquad(upper_integrand,[[0,z_limit],[z_lowerbound,z_upperbound],[z_lowerbound,z_upperbound],[0,z_limit]])\n",
    "\n",
    "intg.tplquad(upper_integrand,[z_lowerbound,z_upperbound],[z_lowerbound,z_upperbound],[0,z_limit]])\n",
    "# def upper_integrand(x1,x2,x3,x4):\n",
    "#     return x4\n",
    "# intg.nquad(upper_integrand,[[0,1],[0,1],[0,1],[0,4]])"
   ]
  },
  {
   "cell_type": "code",
   "execution_count": 105,
   "metadata": {},
   "outputs": [],
   "source": [
    "\n",
    "\n",
    "\n",
    "\n",
    "def lower_integrand(z_G,zphoto_g,zphoto_G): \n",
    "    #need i from global scope\n",
    "    \n",
    "    return W_L(z_L,z_G)*photozPDF(z_G,zphoto_G)*photozPDF(z_g,zphoto_g)*n_z(zphoto_G)*n_z(zphoto_g)[0]\n",
    "def lower_integral(z_L,z_g,i):\n",
    "    #need i from global scope\n",
    "    #ith redshift bin\n",
    "    \n",
    "    lowerbound = z_i_center(i)-deltaz/2\n",
    "    upperbound = z_i_center(i)+deltaz/2\n",
    "    return intg.tplquad(lower_integrand,lowerbound,upperbound,lowerbound,upperbound,0,z_limit)[0]\n",
    "\n",
    "def eta(z):\n",
    "    #need i from global scope\n",
    "    return upper_integral(z,z,i)/lower_integral(z,z,i)\n",
    "    \n",
    "    \n"
   ]
  },
  {
   "cell_type": "code",
   "execution_count": null,
   "metadata": {},
   "outputs": [],
   "source": [
    "\"distribution normalization testings\"\n",
    "# #galaxy number density distribution (LSST oriented)\n",
    "# #normalized from 0 - infinity\n",
    "# def n_z(z):\n",
    "#     #import numpy as np\n",
    "#     return z*z*np.exp(-z/0.5)\n",
    "# #redshift distribution tests\n",
    "# z_test = np.linspace(0,z_limit,500)\n",
    "# n_z_test = n_z(z_test)\n",
    "# n_z_normalize_const = intg.quad(n_z,0,z_limit)[0]\n",
    "# print(\"for z_limit = \",z_limit,\", n_z has normalization constant = \", n_z_normalize_const)\n",
    "# print(\"for z_limit = \",z_limit,\", we renormalize n(z)\")\n",
    "# def n_z(z):\n",
    "#     #import numpy as np\n",
    "#     return z*z*np.exp(-z/0.5)/n_z_normalize_const\n",
    "# plt.plot(z_test, n_z_test)\n",
    "# plt.xlabel('redshift z')\n",
    "# plt.ylabel('normalized redshift distribution n(z)')\n",
    "# plt.show()"
   ]
  },
  {
   "cell_type": "code",
   "execution_count": 41,
   "metadata": {},
   "outputs": [
    {
     "name": "stdout",
     "output_type": "stream",
     "text": [
      "calculating redshift bin 1.10 - 1.30\n",
      "19.5\n"
     ]
    },
    {
     "ename": "TypeError",
     "evalue": "only size-1 arrays can be converted to Python scalars",
     "output_type": "error",
     "traceback": [
      "\u001b[0;31m---------------------------------------------------------------------------\u001b[0m",
      "\u001b[0;31mTypeError\u001b[0m                                 Traceback (most recent call last)",
      "\u001b[0;32m<ipython-input-41-61b075047d1f>\u001b[0m in \u001b[0;36m<module>\u001b[0;34m\u001b[0m\n\u001b[1;32m     34\u001b[0m     \u001b[0;32mdef\u001b[0m \u001b[0mlower_integrand\u001b[0m\u001b[0;34m(\u001b[0m\u001b[0mz_G\u001b[0m\u001b[0;34m,\u001b[0m\u001b[0mzphoto_g\u001b[0m\u001b[0;34m,\u001b[0m\u001b[0mzphoto_G\u001b[0m\u001b[0;34m)\u001b[0m\u001b[0;34m:\u001b[0m \u001b[0;31m#defined for the ith redshift bin\u001b[0m\u001b[0;34m\u001b[0m\u001b[0;34m\u001b[0m\u001b[0m\n\u001b[1;32m     35\u001b[0m         \u001b[0;32mreturn\u001b[0m \u001b[0mW_L\u001b[0m\u001b[0;34m(\u001b[0m\u001b[0mz_intg_midpoint\u001b[0m\u001b[0;34m,\u001b[0m\u001b[0mz_G\u001b[0m\u001b[0;34m)\u001b[0m\u001b[0;34m*\u001b[0m\u001b[0mphotozPDF\u001b[0m\u001b[0;34m(\u001b[0m\u001b[0mz_G\u001b[0m\u001b[0;34m,\u001b[0m\u001b[0mzphoto_G\u001b[0m\u001b[0;34m)\u001b[0m\u001b[0;34m*\u001b[0m\u001b[0mphotozPDF\u001b[0m\u001b[0;34m(\u001b[0m\u001b[0mz_intg_midpoint\u001b[0m\u001b[0;34m,\u001b[0m\u001b[0mzphoto_g\u001b[0m\u001b[0;34m)\u001b[0m\u001b[0;34m*\u001b[0m\u001b[0mn_z_i\u001b[0m\u001b[0;34m(\u001b[0m\u001b[0mzphoto_G\u001b[0m\u001b[0;34m)\u001b[0m\u001b[0;34m*\u001b[0m\u001b[0mn_z_i\u001b[0m\u001b[0;34m(\u001b[0m\u001b[0mzphoto_g\u001b[0m\u001b[0;34m)\u001b[0m\u001b[0;34m\u001b[0m\u001b[0;34m\u001b[0m\u001b[0m\n\u001b[0;32m---> 36\u001b[0;31m     \u001b[0mupper_integral\u001b[0m \u001b[0;34m=\u001b[0m \u001b[0mintg\u001b[0m\u001b[0;34m.\u001b[0m\u001b[0mtplquad\u001b[0m\u001b[0;34m(\u001b[0m\u001b[0mupper_integrand\u001b[0m\u001b[0;34m,\u001b[0m\u001b[0mz_lowerbound\u001b[0m\u001b[0;34m,\u001b[0m\u001b[0mz_upperbound\u001b[0m\u001b[0;34m,\u001b[0m\u001b[0mz_lowerbound\u001b[0m\u001b[0;34m,\u001b[0m\u001b[0mz_upperbound\u001b[0m\u001b[0;34m,\u001b[0m\u001b[0;36m0\u001b[0m\u001b[0;34m,\u001b[0m\u001b[0mz_limit\u001b[0m\u001b[0;34m)\u001b[0m\u001b[0;34m\u001b[0m\u001b[0;34m\u001b[0m\u001b[0m\n\u001b[0m\u001b[1;32m     37\u001b[0m     \u001b[0mlower_integral\u001b[0m \u001b[0;34m=\u001b[0m \u001b[0mintg\u001b[0m\u001b[0;34m.\u001b[0m\u001b[0mtplquad\u001b[0m\u001b[0;34m(\u001b[0m\u001b[0mlower_integrand\u001b[0m\u001b[0;34m,\u001b[0m\u001b[0mz_lowerbound\u001b[0m\u001b[0;34m,\u001b[0m\u001b[0mz_upperbound\u001b[0m\u001b[0;34m,\u001b[0m\u001b[0mz_lowerbound\u001b[0m\u001b[0;34m,\u001b[0m\u001b[0mz_upperbound\u001b[0m\u001b[0;34m,\u001b[0m\u001b[0;36m0\u001b[0m\u001b[0;34m,\u001b[0m\u001b[0mz_limit\u001b[0m\u001b[0;34m)\u001b[0m\u001b[0;34m\u001b[0m\u001b[0;34m\u001b[0m\u001b[0m\n\u001b[1;32m     38\u001b[0m     \u001b[0mprint\u001b[0m\u001b[0;34m(\u001b[0m\u001b[0mupper_integral\u001b[0m\u001b[0;34m,\u001b[0m\u001b[0mlower_integral\u001b[0m\u001b[0;34m)\u001b[0m\u001b[0;34m\u001b[0m\u001b[0;34m\u001b[0m\u001b[0m\n",
      "\u001b[0;32m~/opt/anaconda3/lib/python3.8/site-packages/scipy/integrate/quadpack.py\u001b[0m in \u001b[0;36mtplquad\u001b[0;34m(func, a, b, gfun, hfun, qfun, rfun, args, epsabs, epsrel)\u001b[0m\n\u001b[1;32m    688\u001b[0m \u001b[0;34m\u001b[0m\u001b[0m\n\u001b[1;32m    689\u001b[0m     \u001b[0mranges\u001b[0m \u001b[0;34m=\u001b[0m \u001b[0;34m[\u001b[0m\u001b[0mranges0\u001b[0m\u001b[0;34m,\u001b[0m \u001b[0mranges1\u001b[0m\u001b[0;34m,\u001b[0m \u001b[0;34m[\u001b[0m\u001b[0ma\u001b[0m\u001b[0;34m,\u001b[0m \u001b[0mb\u001b[0m\u001b[0;34m]\u001b[0m\u001b[0;34m]\u001b[0m\u001b[0;34m\u001b[0m\u001b[0;34m\u001b[0m\u001b[0m\n\u001b[0;32m--> 690\u001b[0;31m     return nquad(func, ranges, args=args,\n\u001b[0m\u001b[1;32m    691\u001b[0m             opts={\"epsabs\": epsabs, \"epsrel\": epsrel})\n\u001b[1;32m    692\u001b[0m \u001b[0;34m\u001b[0m\u001b[0m\n",
      "\u001b[0;32m~/opt/anaconda3/lib/python3.8/site-packages/scipy/integrate/quadpack.py\u001b[0m in \u001b[0;36mnquad\u001b[0;34m(func, ranges, args, opts, full_output)\u001b[0m\n\u001b[1;32m    824\u001b[0m     \u001b[0;32melse\u001b[0m\u001b[0;34m:\u001b[0m\u001b[0;34m\u001b[0m\u001b[0;34m\u001b[0m\u001b[0m\n\u001b[1;32m    825\u001b[0m         \u001b[0mopts\u001b[0m \u001b[0;34m=\u001b[0m \u001b[0;34m[\u001b[0m\u001b[0mopt\u001b[0m \u001b[0;32mif\u001b[0m \u001b[0mcallable\u001b[0m\u001b[0;34m(\u001b[0m\u001b[0mopt\u001b[0m\u001b[0;34m)\u001b[0m \u001b[0;32melse\u001b[0m \u001b[0m_OptFunc\u001b[0m\u001b[0;34m(\u001b[0m\u001b[0mopt\u001b[0m\u001b[0;34m)\u001b[0m \u001b[0;32mfor\u001b[0m \u001b[0mopt\u001b[0m \u001b[0;32min\u001b[0m \u001b[0mopts\u001b[0m\u001b[0;34m]\u001b[0m\u001b[0;34m\u001b[0m\u001b[0;34m\u001b[0m\u001b[0m\n\u001b[0;32m--> 826\u001b[0;31m     \u001b[0;32mreturn\u001b[0m \u001b[0m_NQuad\u001b[0m\u001b[0;34m(\u001b[0m\u001b[0mfunc\u001b[0m\u001b[0;34m,\u001b[0m \u001b[0mranges\u001b[0m\u001b[0;34m,\u001b[0m \u001b[0mopts\u001b[0m\u001b[0;34m,\u001b[0m \u001b[0mfull_output\u001b[0m\u001b[0;34m)\u001b[0m\u001b[0;34m.\u001b[0m\u001b[0mintegrate\u001b[0m\u001b[0;34m(\u001b[0m\u001b[0;34m*\u001b[0m\u001b[0margs\u001b[0m\u001b[0;34m)\u001b[0m\u001b[0;34m\u001b[0m\u001b[0;34m\u001b[0m\u001b[0m\n\u001b[0m\u001b[1;32m    827\u001b[0m \u001b[0;34m\u001b[0m\u001b[0m\n\u001b[1;32m    828\u001b[0m \u001b[0;34m\u001b[0m\u001b[0m\n",
      "\u001b[0;32m~/opt/anaconda3/lib/python3.8/site-packages/scipy/integrate/quadpack.py\u001b[0m in \u001b[0;36mintegrate\u001b[0;34m(self, *args, **kwargs)\u001b[0m\n\u001b[1;32m    878\u001b[0m         \u001b[0;32melse\u001b[0m\u001b[0;34m:\u001b[0m\u001b[0;34m\u001b[0m\u001b[0;34m\u001b[0m\u001b[0m\n\u001b[1;32m    879\u001b[0m             \u001b[0mf\u001b[0m \u001b[0;34m=\u001b[0m \u001b[0mpartial\u001b[0m\u001b[0;34m(\u001b[0m\u001b[0mself\u001b[0m\u001b[0;34m.\u001b[0m\u001b[0mintegrate\u001b[0m\u001b[0;34m,\u001b[0m \u001b[0mdepth\u001b[0m\u001b[0;34m=\u001b[0m\u001b[0mdepth\u001b[0m\u001b[0;34m+\u001b[0m\u001b[0;36m1\u001b[0m\u001b[0;34m)\u001b[0m\u001b[0;34m\u001b[0m\u001b[0;34m\u001b[0m\u001b[0m\n\u001b[0;32m--> 880\u001b[0;31m         quad_r = quad(f, low, high, args=args, full_output=self.full_output,\n\u001b[0m\u001b[1;32m    881\u001b[0m                       **opt)\n\u001b[1;32m    882\u001b[0m         \u001b[0mvalue\u001b[0m \u001b[0;34m=\u001b[0m \u001b[0mquad_r\u001b[0m\u001b[0;34m[\u001b[0m\u001b[0;36m0\u001b[0m\u001b[0;34m]\u001b[0m\u001b[0;34m\u001b[0m\u001b[0;34m\u001b[0m\u001b[0m\n",
      "\u001b[0;32m~/opt/anaconda3/lib/python3.8/site-packages/scipy/integrate/quadpack.py\u001b[0m in \u001b[0;36mquad\u001b[0;34m(func, a, b, args, full_output, epsabs, epsrel, limit, points, weight, wvar, wopts, maxp1, limlst)\u001b[0m\n\u001b[1;32m    349\u001b[0m \u001b[0;34m\u001b[0m\u001b[0m\n\u001b[1;32m    350\u001b[0m     \u001b[0;32mif\u001b[0m \u001b[0mweight\u001b[0m \u001b[0;32mis\u001b[0m \u001b[0;32mNone\u001b[0m\u001b[0;34m:\u001b[0m\u001b[0;34m\u001b[0m\u001b[0;34m\u001b[0m\u001b[0m\n\u001b[0;32m--> 351\u001b[0;31m         retval = _quad(func, a, b, args, full_output, epsabs, epsrel, limit,\n\u001b[0m\u001b[1;32m    352\u001b[0m                        points)\n\u001b[1;32m    353\u001b[0m     \u001b[0;32melse\u001b[0m\u001b[0;34m:\u001b[0m\u001b[0;34m\u001b[0m\u001b[0;34m\u001b[0m\u001b[0m\n",
      "\u001b[0;32m~/opt/anaconda3/lib/python3.8/site-packages/scipy/integrate/quadpack.py\u001b[0m in \u001b[0;36m_quad\u001b[0;34m(func, a, b, args, full_output, epsabs, epsrel, limit, points)\u001b[0m\n\u001b[1;32m    461\u001b[0m     \u001b[0;32mif\u001b[0m \u001b[0mpoints\u001b[0m \u001b[0;32mis\u001b[0m \u001b[0;32mNone\u001b[0m\u001b[0;34m:\u001b[0m\u001b[0;34m\u001b[0m\u001b[0;34m\u001b[0m\u001b[0m\n\u001b[1;32m    462\u001b[0m         \u001b[0;32mif\u001b[0m \u001b[0minfbounds\u001b[0m \u001b[0;34m==\u001b[0m \u001b[0;36m0\u001b[0m\u001b[0;34m:\u001b[0m\u001b[0;34m\u001b[0m\u001b[0;34m\u001b[0m\u001b[0m\n\u001b[0;32m--> 463\u001b[0;31m             \u001b[0;32mreturn\u001b[0m \u001b[0m_quadpack\u001b[0m\u001b[0;34m.\u001b[0m\u001b[0m_qagse\u001b[0m\u001b[0;34m(\u001b[0m\u001b[0mfunc\u001b[0m\u001b[0;34m,\u001b[0m\u001b[0ma\u001b[0m\u001b[0;34m,\u001b[0m\u001b[0mb\u001b[0m\u001b[0;34m,\u001b[0m\u001b[0margs\u001b[0m\u001b[0;34m,\u001b[0m\u001b[0mfull_output\u001b[0m\u001b[0;34m,\u001b[0m\u001b[0mepsabs\u001b[0m\u001b[0;34m,\u001b[0m\u001b[0mepsrel\u001b[0m\u001b[0;34m,\u001b[0m\u001b[0mlimit\u001b[0m\u001b[0;34m)\u001b[0m\u001b[0;34m\u001b[0m\u001b[0;34m\u001b[0m\u001b[0m\n\u001b[0m\u001b[1;32m    464\u001b[0m         \u001b[0;32melse\u001b[0m\u001b[0;34m:\u001b[0m\u001b[0;34m\u001b[0m\u001b[0;34m\u001b[0m\u001b[0m\n\u001b[1;32m    465\u001b[0m             \u001b[0;32mreturn\u001b[0m \u001b[0m_quadpack\u001b[0m\u001b[0;34m.\u001b[0m\u001b[0m_qagie\u001b[0m\u001b[0;34m(\u001b[0m\u001b[0mfunc\u001b[0m\u001b[0;34m,\u001b[0m\u001b[0mbound\u001b[0m\u001b[0;34m,\u001b[0m\u001b[0minfbounds\u001b[0m\u001b[0;34m,\u001b[0m\u001b[0margs\u001b[0m\u001b[0;34m,\u001b[0m\u001b[0mfull_output\u001b[0m\u001b[0;34m,\u001b[0m\u001b[0mepsabs\u001b[0m\u001b[0;34m,\u001b[0m\u001b[0mepsrel\u001b[0m\u001b[0;34m,\u001b[0m\u001b[0mlimit\u001b[0m\u001b[0;34m)\u001b[0m\u001b[0;34m\u001b[0m\u001b[0;34m\u001b[0m\u001b[0m\n",
      "\u001b[0;32m~/opt/anaconda3/lib/python3.8/site-packages/scipy/integrate/quadpack.py\u001b[0m in \u001b[0;36mintegrate\u001b[0;34m(self, *args, **kwargs)\u001b[0m\n\u001b[1;32m    878\u001b[0m         \u001b[0;32melse\u001b[0m\u001b[0;34m:\u001b[0m\u001b[0;34m\u001b[0m\u001b[0;34m\u001b[0m\u001b[0m\n\u001b[1;32m    879\u001b[0m             \u001b[0mf\u001b[0m \u001b[0;34m=\u001b[0m \u001b[0mpartial\u001b[0m\u001b[0;34m(\u001b[0m\u001b[0mself\u001b[0m\u001b[0;34m.\u001b[0m\u001b[0mintegrate\u001b[0m\u001b[0;34m,\u001b[0m \u001b[0mdepth\u001b[0m\u001b[0;34m=\u001b[0m\u001b[0mdepth\u001b[0m\u001b[0;34m+\u001b[0m\u001b[0;36m1\u001b[0m\u001b[0;34m)\u001b[0m\u001b[0;34m\u001b[0m\u001b[0;34m\u001b[0m\u001b[0m\n\u001b[0;32m--> 880\u001b[0;31m         quad_r = quad(f, low, high, args=args, full_output=self.full_output,\n\u001b[0m\u001b[1;32m    881\u001b[0m                       **opt)\n\u001b[1;32m    882\u001b[0m         \u001b[0mvalue\u001b[0m \u001b[0;34m=\u001b[0m \u001b[0mquad_r\u001b[0m\u001b[0;34m[\u001b[0m\u001b[0;36m0\u001b[0m\u001b[0;34m]\u001b[0m\u001b[0;34m\u001b[0m\u001b[0;34m\u001b[0m\u001b[0m\n",
      "\u001b[0;32m~/opt/anaconda3/lib/python3.8/site-packages/scipy/integrate/quadpack.py\u001b[0m in \u001b[0;36mquad\u001b[0;34m(func, a, b, args, full_output, epsabs, epsrel, limit, points, weight, wvar, wopts, maxp1, limlst)\u001b[0m\n\u001b[1;32m    349\u001b[0m \u001b[0;34m\u001b[0m\u001b[0m\n\u001b[1;32m    350\u001b[0m     \u001b[0;32mif\u001b[0m \u001b[0mweight\u001b[0m \u001b[0;32mis\u001b[0m \u001b[0;32mNone\u001b[0m\u001b[0;34m:\u001b[0m\u001b[0;34m\u001b[0m\u001b[0;34m\u001b[0m\u001b[0m\n\u001b[0;32m--> 351\u001b[0;31m         retval = _quad(func, a, b, args, full_output, epsabs, epsrel, limit,\n\u001b[0m\u001b[1;32m    352\u001b[0m                        points)\n\u001b[1;32m    353\u001b[0m     \u001b[0;32melse\u001b[0m\u001b[0;34m:\u001b[0m\u001b[0;34m\u001b[0m\u001b[0;34m\u001b[0m\u001b[0m\n",
      "\u001b[0;32m~/opt/anaconda3/lib/python3.8/site-packages/scipy/integrate/quadpack.py\u001b[0m in \u001b[0;36m_quad\u001b[0;34m(func, a, b, args, full_output, epsabs, epsrel, limit, points)\u001b[0m\n\u001b[1;32m    461\u001b[0m     \u001b[0;32mif\u001b[0m \u001b[0mpoints\u001b[0m \u001b[0;32mis\u001b[0m \u001b[0;32mNone\u001b[0m\u001b[0;34m:\u001b[0m\u001b[0;34m\u001b[0m\u001b[0;34m\u001b[0m\u001b[0m\n\u001b[1;32m    462\u001b[0m         \u001b[0;32mif\u001b[0m \u001b[0minfbounds\u001b[0m \u001b[0;34m==\u001b[0m \u001b[0;36m0\u001b[0m\u001b[0;34m:\u001b[0m\u001b[0;34m\u001b[0m\u001b[0;34m\u001b[0m\u001b[0m\n\u001b[0;32m--> 463\u001b[0;31m             \u001b[0;32mreturn\u001b[0m \u001b[0m_quadpack\u001b[0m\u001b[0;34m.\u001b[0m\u001b[0m_qagse\u001b[0m\u001b[0;34m(\u001b[0m\u001b[0mfunc\u001b[0m\u001b[0;34m,\u001b[0m\u001b[0ma\u001b[0m\u001b[0;34m,\u001b[0m\u001b[0mb\u001b[0m\u001b[0;34m,\u001b[0m\u001b[0margs\u001b[0m\u001b[0;34m,\u001b[0m\u001b[0mfull_output\u001b[0m\u001b[0;34m,\u001b[0m\u001b[0mepsabs\u001b[0m\u001b[0;34m,\u001b[0m\u001b[0mepsrel\u001b[0m\u001b[0;34m,\u001b[0m\u001b[0mlimit\u001b[0m\u001b[0;34m)\u001b[0m\u001b[0;34m\u001b[0m\u001b[0;34m\u001b[0m\u001b[0m\n\u001b[0m\u001b[1;32m    464\u001b[0m         \u001b[0;32melse\u001b[0m\u001b[0;34m:\u001b[0m\u001b[0;34m\u001b[0m\u001b[0;34m\u001b[0m\u001b[0m\n\u001b[1;32m    465\u001b[0m             \u001b[0;32mreturn\u001b[0m \u001b[0m_quadpack\u001b[0m\u001b[0;34m.\u001b[0m\u001b[0m_qagie\u001b[0m\u001b[0;34m(\u001b[0m\u001b[0mfunc\u001b[0m\u001b[0;34m,\u001b[0m\u001b[0mbound\u001b[0m\u001b[0;34m,\u001b[0m\u001b[0minfbounds\u001b[0m\u001b[0;34m,\u001b[0m\u001b[0margs\u001b[0m\u001b[0;34m,\u001b[0m\u001b[0mfull_output\u001b[0m\u001b[0;34m,\u001b[0m\u001b[0mepsabs\u001b[0m\u001b[0;34m,\u001b[0m\u001b[0mepsrel\u001b[0m\u001b[0;34m,\u001b[0m\u001b[0mlimit\u001b[0m\u001b[0;34m)\u001b[0m\u001b[0;34m\u001b[0m\u001b[0;34m\u001b[0m\u001b[0m\n",
      "\u001b[0;32m~/opt/anaconda3/lib/python3.8/site-packages/scipy/integrate/quadpack.py\u001b[0m in \u001b[0;36mintegrate\u001b[0;34m(self, *args, **kwargs)\u001b[0m\n\u001b[1;32m    878\u001b[0m         \u001b[0;32melse\u001b[0m\u001b[0;34m:\u001b[0m\u001b[0;34m\u001b[0m\u001b[0;34m\u001b[0m\u001b[0m\n\u001b[1;32m    879\u001b[0m             \u001b[0mf\u001b[0m \u001b[0;34m=\u001b[0m \u001b[0mpartial\u001b[0m\u001b[0;34m(\u001b[0m\u001b[0mself\u001b[0m\u001b[0;34m.\u001b[0m\u001b[0mintegrate\u001b[0m\u001b[0;34m,\u001b[0m \u001b[0mdepth\u001b[0m\u001b[0;34m=\u001b[0m\u001b[0mdepth\u001b[0m\u001b[0;34m+\u001b[0m\u001b[0;36m1\u001b[0m\u001b[0;34m)\u001b[0m\u001b[0;34m\u001b[0m\u001b[0;34m\u001b[0m\u001b[0m\n\u001b[0;32m--> 880\u001b[0;31m         quad_r = quad(f, low, high, args=args, full_output=self.full_output,\n\u001b[0m\u001b[1;32m    881\u001b[0m                       **opt)\n\u001b[1;32m    882\u001b[0m         \u001b[0mvalue\u001b[0m \u001b[0;34m=\u001b[0m \u001b[0mquad_r\u001b[0m\u001b[0;34m[\u001b[0m\u001b[0;36m0\u001b[0m\u001b[0;34m]\u001b[0m\u001b[0;34m\u001b[0m\u001b[0;34m\u001b[0m\u001b[0m\n",
      "\u001b[0;32m~/opt/anaconda3/lib/python3.8/site-packages/scipy/integrate/quadpack.py\u001b[0m in \u001b[0;36mquad\u001b[0;34m(func, a, b, args, full_output, epsabs, epsrel, limit, points, weight, wvar, wopts, maxp1, limlst)\u001b[0m\n\u001b[1;32m    349\u001b[0m \u001b[0;34m\u001b[0m\u001b[0m\n\u001b[1;32m    350\u001b[0m     \u001b[0;32mif\u001b[0m \u001b[0mweight\u001b[0m \u001b[0;32mis\u001b[0m \u001b[0;32mNone\u001b[0m\u001b[0;34m:\u001b[0m\u001b[0;34m\u001b[0m\u001b[0;34m\u001b[0m\u001b[0m\n\u001b[0;32m--> 351\u001b[0;31m         retval = _quad(func, a, b, args, full_output, epsabs, epsrel, limit,\n\u001b[0m\u001b[1;32m    352\u001b[0m                        points)\n\u001b[1;32m    353\u001b[0m     \u001b[0;32melse\u001b[0m\u001b[0;34m:\u001b[0m\u001b[0;34m\u001b[0m\u001b[0;34m\u001b[0m\u001b[0m\n",
      "\u001b[0;32m~/opt/anaconda3/lib/python3.8/site-packages/scipy/integrate/quadpack.py\u001b[0m in \u001b[0;36m_quad\u001b[0;34m(func, a, b, args, full_output, epsabs, epsrel, limit, points)\u001b[0m\n\u001b[1;32m    461\u001b[0m     \u001b[0;32mif\u001b[0m \u001b[0mpoints\u001b[0m \u001b[0;32mis\u001b[0m \u001b[0;32mNone\u001b[0m\u001b[0;34m:\u001b[0m\u001b[0;34m\u001b[0m\u001b[0;34m\u001b[0m\u001b[0m\n\u001b[1;32m    462\u001b[0m         \u001b[0;32mif\u001b[0m \u001b[0minfbounds\u001b[0m \u001b[0;34m==\u001b[0m \u001b[0;36m0\u001b[0m\u001b[0;34m:\u001b[0m\u001b[0;34m\u001b[0m\u001b[0;34m\u001b[0m\u001b[0m\n\u001b[0;32m--> 463\u001b[0;31m             \u001b[0;32mreturn\u001b[0m \u001b[0m_quadpack\u001b[0m\u001b[0;34m.\u001b[0m\u001b[0m_qagse\u001b[0m\u001b[0;34m(\u001b[0m\u001b[0mfunc\u001b[0m\u001b[0;34m,\u001b[0m\u001b[0ma\u001b[0m\u001b[0;34m,\u001b[0m\u001b[0mb\u001b[0m\u001b[0;34m,\u001b[0m\u001b[0margs\u001b[0m\u001b[0;34m,\u001b[0m\u001b[0mfull_output\u001b[0m\u001b[0;34m,\u001b[0m\u001b[0mepsabs\u001b[0m\u001b[0;34m,\u001b[0m\u001b[0mepsrel\u001b[0m\u001b[0;34m,\u001b[0m\u001b[0mlimit\u001b[0m\u001b[0;34m)\u001b[0m\u001b[0;34m\u001b[0m\u001b[0;34m\u001b[0m\u001b[0m\n\u001b[0m\u001b[1;32m    464\u001b[0m         \u001b[0;32melse\u001b[0m\u001b[0;34m:\u001b[0m\u001b[0;34m\u001b[0m\u001b[0;34m\u001b[0m\u001b[0m\n\u001b[1;32m    465\u001b[0m             \u001b[0;32mreturn\u001b[0m \u001b[0m_quadpack\u001b[0m\u001b[0;34m.\u001b[0m\u001b[0m_qagie\u001b[0m\u001b[0;34m(\u001b[0m\u001b[0mfunc\u001b[0m\u001b[0;34m,\u001b[0m\u001b[0mbound\u001b[0m\u001b[0;34m,\u001b[0m\u001b[0minfbounds\u001b[0m\u001b[0;34m,\u001b[0m\u001b[0margs\u001b[0m\u001b[0;34m,\u001b[0m\u001b[0mfull_output\u001b[0m\u001b[0;34m,\u001b[0m\u001b[0mepsabs\u001b[0m\u001b[0;34m,\u001b[0m\u001b[0mepsrel\u001b[0m\u001b[0;34m,\u001b[0m\u001b[0mlimit\u001b[0m\u001b[0;34m)\u001b[0m\u001b[0;34m\u001b[0m\u001b[0;34m\u001b[0m\u001b[0m\n",
      "\u001b[0;31mTypeError\u001b[0m: only size-1 arrays can be converted to Python scalars"
     ]
    }
   ],
   "source": [
    "i = 5\n",
    "z_lowerbound = z_i_center(i)-deltaz/2\n",
    "z_upperbound = z_i_center(i)+deltaz/2\n",
    "print(\"calculating redshift bin %1.2f - %1.2f\" %(z_lowerbound,z_upperbound))\n",
    "\n",
    "#redshift distributions\n",
    "def n_z(z):\n",
    "    return z*z*np.exp(-z/0.5)\n",
    "#galaxy distribution normalized in bin i    \n",
    "n_z_i_norm = intg.quad(n_z,z_lowerbound,z_upperbound)\n",
    "def n_z_i(z):\n",
    "    return z*z*np.exp(-z/0.5)/n_z_i_norm\n",
    "#galaxy distribution normalized from 0 to infinity~z_limit\n",
    "n_z_all_norm = intg.quad(n_z,0,z_limit)\n",
    "def n_z_all(z):\n",
    "    return z*z*np.exp(-z/0.5)/n_z_all_norm\n",
    "\n",
    "intg_steps = 21\n",
    "z_intg_range = np.linspace(0,z_limit,intg_steps)\n",
    "for i in range(intg_steps-1):\n",
    "    z_intg_midpoint = (i+0.5)*z_limit/(intg_steps-1) #z value between z_intg_range[i] and z_intg_range[i+1]\n",
    "    print(z_midpoint)\n",
    "    \n",
    "    def upper_integrand(z_G,zphoto_g,zphoto_G): #defined for the ith redshift bin\n",
    "        #setting z_L ~ z_g = z_intg_midpoint\n",
    "        #the integration is performed on zphoto_g,z_G,and zphoto_G, after the integration, the dependency is on z_L ~= z_g only.\n",
    "        if zphoto_G<zphoto_g:\n",
    "            return 2*W_L(z_intg_midpoint,z_G)*photozPDF(z_G,zphoto_G)*photozPDF(z_intg_midpoint,zphoto_g)*n_z_i(zphoto_G)*n_z_i(zphoto_g)\n",
    "        else: return 0\n",
    "    def lower_integrand(z_G,zphoto_g,zphoto_G): #defined for the ith redshift bin\n",
    "        return W_L(z_intg_midpoint,z_G)*photozPDF(z_G,zphoto_G)*photozPDF(z_intg_midpoint,zphoto_g)*n_z_i(zphoto_G)*n_z_i(zphoto_g)\n",
    "    upper_integral = intg.tplquad(upper_integrand,z_lowerbound,z_upperbound,z_lowerbound,z_upperbound,0,z_limit)\n",
    "    lower_integral = intg.tplquad(lower_integrand,z_lowerbound,z_upperbound,z_lowerbound,z_upperbound,0,z_limit)\n",
    "    \n",
    "    print(upper_integral,lower_integral)\n",
    "    #eta = upperintegrand evaluated at z_midpoint / lower integrand evaluated at z_midpoint\n"
   ]
  },
  {
   "cell_type": "code",
   "execution_count": null,
   "metadata": {},
   "outputs": [],
   "source": []
  }
 ],
 "metadata": {
  "kernelspec": {
   "display_name": "Python 3",
   "language": "python",
   "name": "python3"
  },
  "language_info": {
   "codemirror_mode": {
    "name": "ipython",
    "version": 3
   },
   "file_extension": ".py",
   "mimetype": "text/x-python",
   "name": "python",
   "nbconvert_exporter": "python",
   "pygments_lexer": "ipython3",
   "version": "3.8.3"
  }
 },
 "nbformat": 4,
 "nbformat_minor": 4
}
