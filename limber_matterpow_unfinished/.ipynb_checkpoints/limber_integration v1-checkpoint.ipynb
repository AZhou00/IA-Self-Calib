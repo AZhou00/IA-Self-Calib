{
 "cells": [
  {
   "cell_type": "code",
   "execution_count": 27,
   "metadata": {},
   "outputs": [],
   "source": [
    "import numpy as np\n",
    "import scipy as sp\n",
    "import matplotlib.pyplot as plt\n",
    "import scipy.integrate as intg\n",
    "import pandas as pd\n",
    "\n",
    "import os,sys,inspect\n",
    "currentdir = os.path.dirname(os.path.abspath(inspect.getfile(inspect.currentframe())))\n",
    "parentdir = os.path.dirname(currentdir)\n",
    "sys.path.insert(0,parentdir) \n",
    "\n",
    "#import modules from parent directory\n",
    "from interpolation_functions import *"
   ]
  },
  {
   "cell_type": "code",
   "execution_count": 20,
   "metadata": {},
   "outputs": [],
   "source": [
    "#standard multivariate function format: F[x1,x2]\n",
    "#F.shape = (len1,len2)\n",
    "#x1.shape = (len1,)\n",
    "#x2.shape = (len2,)\n",
    "path = '/Users/junzhezhou/Desktop/Cosmology Indep Study/IA-Self-Calib-Data/matter_power_nl'\n",
    "file_to_open = 'p_k.txt' \n",
    "file_to_open = os.path.join(path, file_to_open)\n",
    "with open(file_to_open,'rb') as f:\n",
    "    p_k = np.loadtxt(f,delimiter = ' ') \n",
    "file_to_open = 'k_h.txt' \n",
    "file_to_open = os.path.join(path, file_to_open)\n",
    "with open(file_to_open,'rb') as f:\n",
    "    k_h = np.loadtxt(f,delimiter = ' ')\n",
    "file_to_open = 'z.txt' \n",
    "file_to_open = os.path.join(path, file_to_open)\n",
    "with open(file_to_open,'rb') as f:\n",
    "    z = np.loadtxt(f,delimiter = ' ')"
   ]
  },
  {
   "cell_type": "code",
   "execution_count": 21,
   "metadata": {},
   "outputs": [
    {
     "data": {
      "image/png": "[encoded data removed]",
      "text/plain": [
       "<Figure size 432x288 with 1 Axes>"
      ]
     },
     "metadata": {
      "needs_background": "light"
     },
     "output_type": "display_data"
    }
   ],
   "source": [
    "z_interp = np.linspace(0.01,4,80)\n",
    "k_interp = k_h\n",
    "P_interp = interpolate_2d(p_k,z,k_h,z_interp,k_interp)\n",
    "plt.plot(k_h,p_k[0],label='orig')\n",
    "plt.plot(k_interp,P_interp[0],label='interp')\n",
    "plt.xscale('log')\n",
    "plt.yscale('log')\n",
    "plt.legend()\n",
    "plt.show()"
   ]
  },
  {
   "cell_type": "code",
   "execution_count": 22,
   "metadata": {},
   "outputs": [],
   "source": [
    "i=1"
   ]
  },
  {
   "cell_type": "code",
   "execution_count": 23,
   "metadata": {},
   "outputs": [
    {
     "name": "stdout",
     "output_type": "stream",
     "text": [
      "z resolution is 0.00250\n",
      "calculating for redshift bin 0.20 - 0.40\n"
     ]
    }
   ],
   "source": [
    "#constants\n",
    "Omega0 = 0.2 #present day matter density in unit of critical density\n",
    "OmegaLambda = 0.8\n",
    "Omegak = 1-Omega0-OmegaLambda\n",
    "\n",
    "deltaz = 0.2 #redshift bin width\n",
    "#in integration 1 redshift is broken into z_res intervals\n",
    "#for zlim = 4, zres = 400 ~20sec/run\n",
    "z_limit = 4\n",
    "z_res = 400 \n",
    "gaussian_spread = 0.05\n",
    "print('z resolution is %1.5f' %(1/z_res))\n",
    "\n",
    "#Input matter density spectrum Del_mg[l,z]\n",
    "Del_l_list = np.logspace(2,4,num=20) #log scale from 10^2 to 10^4\n",
    "#Del_z_list should be set to = z_list\n",
    "#throw away the first element to perform right Riemann sum to avoid 0 division\n",
    "z_list = np.linspace(0,z_limit,z_limit*z_res,dtype='float64')[1:]\n",
    "Del_mg = np.ones((len(Del_l_list),len(z_list)))\n",
    "\n",
    "#comoving distance function, in unit of c/H0\n",
    "#Troxel and Ishak 2014 equation (8) without the factor of H0\n",
    "chi_list = np.array([],dtype='float64')\n",
    "def chi_integrand(z):\n",
    "    return 1/np.sqrt(Omega0*(1+z)**3+Omegak*(1+z)**2+OmegaLambda)\n",
    "def chi(z):\n",
    "    return intg.quad(chi_integrand,0,z)[0]\n",
    "for z in z_list: chi_list = np.append(chi_list,chi(z))\n",
    "    \n",
    "# plt.plot(z_list, chi_list)\n",
    "# plt.xlabel('redshift z')\n",
    "# plt.ylabel('comoving distance chi(z) \\n Omega0=%1.2f, OmegaLambda=%1.2f' %(Omega0,OmegaLambda))\n",
    "# plt.show()\n",
    "\n",
    "# Lensing Kernel List\n",
    "# W_L_list[z_list,z_list]\n",
    "W_L_list = np.empty((len(z_list),len(z_list)),dtype='float64')\n",
    "for z_G_index in range(len(z_list)):\n",
    "    chi_G = chi_list[z_G_index]\n",
    "    W_L_list[z_G_index] = 1.5*Omega0*(1+z_list)*chi_list*(1-chi_list/chi_G)\n",
    "    W_L_list[W_L_list<0]=0 #set negative entries to 0 (eqv. set chi_L>chi_G entries to 0)\n",
    "# test = W_L_list.clip(min=0) This is slightly slower than the above method\n",
    "# test_redshift_index = int(1.2*z_res)\n",
    "# plt.plot(z_list, W_L_list[test_redshift_index])\n",
    "# plt.xlabel('redshift z')\n",
    "# plt.ylabel('lensing kernel W_L with source z_G=%1.4f' %(z_list[test_redshift_index]))\n",
    "# plt.show()\n",
    "\n",
    "\n",
    "################################################\n",
    "#get the Q fnc for a single redshift bin\n",
    "################################################\n",
    "\n",
    "z_i_center = deltaz*(i+0.5) #the center for the ith redshift bin\n",
    "z_lowerbound = z_i_center-deltaz/2\n",
    "z_upperbound = z_i_center+deltaz/2\n",
    "#i = 1 -> 0-0.2\n",
    "#i = 3 -> 0.4-0.6\n",
    "#i = 6 -> 1.0-1.2\n",
    "#i = 9 -> 1.8-2.0\n",
    "\n",
    "print(\"calculating for redshift bin %1.2f - %1.2f\" %(z_lowerbound,z_upperbound))\n",
    "\n",
    "################################################\n",
    "#Setups - Calculating related functions\n",
    "################################################\n",
    "\n",
    "#Redshift coordinates\n",
    "#throw away the first element to perform right Riemann sum to avoid 0 division\n",
    "z_i_list = np.linspace(z_lowerbound,z_upperbound,int(deltaz*z_res),dtype='float64')[1:]\n",
    "\n",
    "#Gaussian Photo-Z PDF bin i\n",
    "photozPDF = np.empty((len(z_list),len(z_i_list)),dtype='float64')\n",
    "for ztrue_index in range(len(z_list)):\n",
    "    ztrue = z_list[ztrue_index]\n",
    "    #std function as a linear in redshift\n",
    "    #Zhang 2010 discusses when 0.05->0.03 accuracy improves by 2.3x on page 7 bottom right\n",
    "    std = gaussian_spread*(1+ztrue)\n",
    "    #gaussian pdf\n",
    "    prefector = 1/(np.sqrt(2*np.pi)*std)\n",
    "    photozPDF[ztrue_index] = prefector*np.exp(-0.5*((z_i_list-ztrue)/std)**2)\n",
    "#     test_redshift_index=int(1.25*z_res)\n",
    "#     plt.plot(z_i_list, photozPDF[test_redshift_index],label='area under the curve=%1.3f'%(sum(photozPDF[test_redshift_index]/z_res)))\n",
    "#     plt.xlabel('redshift z')\n",
    "#     plt.ylabel('photo_z PDF around z_true=%1.4f, \\n with sigma_p=%1.3f' %(z_list[test_redshift_index],gaussian_spread))\n",
    "#     plt.show()\n",
    "\n",
    "#galaxy photo z distribution\n",
    "def n(z):\n",
    "    return z*z*np.exp(-z/0.5)\n",
    "\n",
    "#galaxy photo z distribution normalized in bin i\n",
    "n_photo_i_norm = intg.quad(n,z_lowerbound,z_upperbound)[0]\n",
    "def n_photo_i(z):\n",
    "    return z*z*np.exp(-z/0.5)/n_photo_i_norm\n",
    "n_photo_i_list = n_photo_i(z_i_list)\n",
    "\n",
    "#galaxy photo z distribution normalized from 0 to infinity=z_limit\n",
    "n_photo_all_norm = intg.quad(n,0,z_limit)[0]\n",
    "def n_photo_all(z):\n",
    "    return z*z*np.exp(-z/0.5)/n_photo_all_norm\n",
    "n_photo_all_list = n_photo_all(z_list)\n",
    "\n",
    "#galaxy true z distribution (photo z distribution + smear) normalized from 0 to infinity=z_limit\n",
    "n_i_list = np.zeros(len(z_list))\n",
    "z_i_list_index = 0\n",
    "for ztrue in z_i_list:\n",
    "    std = gaussian_spread*(1+ztrue)\n",
    "    prefector = 1/(np.sqrt(2*np.pi)*std)\n",
    "    n_i_list += n_photo_i_list[z_i_list_index]*prefector*np.exp(-0.5*((z_list-ztrue)/std)**2)\n",
    "    z_i_list_index += 1\n",
    "n_i_list_norm = sum(n_i_list)/z_res\n",
    "n_i_list = n_i_list/n_i_list_norm\n",
    "\n",
    "#galaxy true z distribution (photo z distribution + smear) normalized in bin i\n",
    "n_i_bin_list = np.zeros(len(z_i_list))\n",
    "z_i_list_index = 0\n",
    "for ztrue in z_i_list:\n",
    "    std = gaussian_spread*(1+ztrue)\n",
    "    prefector = 1/(np.sqrt(2*np.pi)*std)\n",
    "    n_i_bin_list += n_photo_i_list[z_i_list_index]*prefector*np.exp(-0.5*((z_i_list-ztrue)/std)**2)\n",
    "    z_i_list_index += 1\n",
    "n_i_bin_list_norm = sum(n_i_bin_list)/z_res\n",
    "n_i_bin_list = n_i_bin_list/n_i_bin_list_norm\n",
    "\n",
    "#     plt.plot(z_list, n_photo_all_list,linestyle='dashed',label = 'n_photo_all_list (photoz) normalized from z=0 to z=inf=zlim')\n",
    "#     plt.plot(z_list, n_i_list,label = 'n_i_list (truez) normalized from z=0 to z=inf=zlim')\n",
    "#     plt.plot(z_i_list, n_photo_i_list,linestyle='dashed',label = 'n_z_i_list (photoz) truncated and normalized in the %1i th redshift bin'%i)\n",
    "#     plt.plot(z_i_list, n_i_bin_list,label = 'n_i_bin_list (truez) truncated and normalized in the %1i th redshift bin'%i)\n",
    "#     plt.xlabel('redshift z')\n",
    "#     plt.ylabel('galaxy redshift distribution')\n",
    "#     plt.legend(bbox_to_anchor=(1, 1.05))\n",
    "#     plt.show()\n",
    "\n",
    "#Integrated kernel, Zhang 2010 (A2)\n",
    "W_i = np.empty(len(z_list))\n",
    "for z_L_index in range(len(z_list)):\n",
    "    W_i[z_L_index] = sum(W_L_list[z_L_index]*n_i_list)/z_res #using the true redshift distribution\n",
    "#     plt.plot(z_list, W_i)\n",
    "#     plt.xlabel('redshift z')\n",
    "#     plt.ylabel('W_i for the %1i th redshift bin'%i)\n",
    "#     plt.show()"
   ]
  },
  {
   "cell_type": "code",
   "execution_count": 24,
   "metadata": {},
   "outputs": [
    {
     "name": "stdout",
     "output_type": "stream",
     "text": [
      "(80,) (80,) (80,)\n"
     ]
    }
   ],
   "source": [
    "chi_interp = interpolate_1d(chi_list,z_list,z_interp)\n",
    "W_i_interp = interpolate_1d(W_i,z_list,z_interp)\n",
    "n_i_interp = interpolate_1d(n_i_list,z_list,z_interp)\n",
    "print(chi_interp.shape,W_i_interp.shape,n_i_interp.shape)"
   ]
  },
  {
   "cell_type": "code",
   "execution_count": 26,
   "metadata": {},
   "outputs": [
    {
     "data": {
      "image/png": "[encoded data removed]",
      "text/plain": [
       "<Figure size 432x288 with 1 Axes>"
      ]
     },
     "metadata": {
      "needs_background": "light"
     },
     "output_type": "display_data"
    }
   ],
   "source": [
    "def limber_integral(P_k_z,weight_z,chi_z,k,z,l_min,l_max):\n",
    "    \"\"\"\n",
    "    - compute Integral(P_k_z(k=l/chi(z))*weight_z)dz\n",
    "    - all functions of z takes value on the list 'z' (need to interpolate first)\n",
    "    - z list can be non uniformly spaced\n",
    "    \n",
    "    \n",
    "    \"\"\"\n",
    "    import numpy as np\n",
    "    \n",
    "    l_list = np.logspace(0,4,50)\n",
    "    C_l = np.zeros(len(l_list))\n",
    "    for index,z_val in enumerate(z): \n",
    "        #if index >3: break\n",
    "        if index <= len(z)-2: #right riemann sum\n",
    "            dz = z[index+1]-z[index]\n",
    "            \n",
    "            #addition[j] amount of the result is added to ell = l_temp[j]\n",
    "            l_temp = k/chi_z[index+1] #what the set of k maps to in l-space\n",
    "            if l_temp[-1]<=l_list[0]:continue #skip this iteration\n",
    "            if l_temp[0]>=l_list[-1]:continue #skip this iteration \n",
    "            \n",
    "            addition = dz*P_k_z[index+1]*weight_z[index+1]\n",
    "\n",
    "            min_index=np.argmax(l_list>=l_temp[0]) #index of the 1st elt in l_list that >= 1st elt of l_temp\n",
    "            max_index=np.argmin(l_list<=l_temp[-1]) #index of the last elt in l_list that <= last elt of l_temp\n",
    "            \n",
    "            truncated_l = l_list[min_index:max_index]\n",
    "            \n",
    "            if truncated_l.size == 0 : continue\n",
    "                \n",
    "            truncated_a = interpolate_1d(addition,l_temp,truncated_l)\n",
    "            left_padded_l =  np.pad(truncated_l, (min_index,0), 'constant')\n",
    "            left_padded_a = np.pad(truncated_a, (min_index,0), 'constant')\n",
    "            fully_padded_l = np.pad(left_padded_l, (0,len(l_list)-len(left_padded_l)), 'constant')\n",
    "            fully_padded_a = np.pad(left_padded_a, (0,len(l_list)-len(left_padded_a)), 'constant')\n",
    "            \n",
    "            bool_l_list = (fully_padded_l != 0)\n",
    "            C_l += bool_l_list*fully_padded_a\n",
    "#             print('l_list')\n",
    "#             print(l_list)\n",
    "#             print('l_temp')\n",
    "#             print(l_temp)\n",
    "#             print('fully_padded_l')\n",
    "#             print(fully_padded_l)\n",
    "#             plt.plot(l_temp,addition)\n",
    "#             plt.xscale('log')\n",
    "#             plt.yscale('log')\n",
    "        \n",
    "    \n",
    "    \n",
    "    return [C_l/l_list,l_list]\n",
    "weight = chi_interp*W_i_interp*n_i_interp\n",
    "C_l,l_list = limber_integral(P_interp,weight,chi_interp,k_interp,z_interp,100,10000)\n",
    "plt.plot(l_list,C_l)\n",
    "plt.xscale('log')\n",
    "plt.yscale('log')\n",
    "        "
   ]
  },
  {
   "cell_type": "code",
   "execution_count": 25,
   "metadata": {},
   "outputs": [
    {
     "name": "stdout",
     "output_type": "stream",
     "text": [
      "(230,)\n",
      "(80,)\n"
     ]
    }
   ],
   "source": [
    "l_lower_key = -2\n",
    "for l_index,l_val in enumerate(l_temp):\n",
    "    if l_val >= l_list[0]:\n",
    "        l_lower_key = l_index\n",
    "        break\n",
    "\n",
    "for l_index,l_val in enumerate(l_temp):\n",
    "    if l_val <= l_list[-1]:\n",
    "        l_lower_key = l_index\n",
    "        break"
   ]
  },
  {
   "cell_type": "code",
   "execution_count": 13,
   "metadata": {},
   "outputs": [
    {
     "name": "stdout",
     "output_type": "stream",
     "text": [
      "[ True  True  True  True  True  True  True]\n",
      "[False False False False False False False]\n",
      "0 0\n",
      "[]\n",
      "[]\n",
      "[0 0 0 0 0 0 0]\n",
      "[1 2 3 4 5 6 7]\n"
     ]
    },
    {
     "data": {
      "text/plain": [
       "1"
      ]
     },
     "execution_count": 13,
     "metadata": {},
     "output_type": "execute_result"
    }
   ],
   "source": [
    "l_list = np.array([1,2,3,4,5,6,7])\n",
    "l_temp = np.array([0.1,0.2,0.3,0.4])\n",
    "    \n",
    "test_min = l_list>=l_temp[0]\n",
    "print(test_min)\n",
    "test_max = l_list<=l_temp[-1]\n",
    "print (test_max)\n",
    "    \n",
    "    \n",
    "min_index=np.argmax(l_list>=l_temp[0]) #index of the 1st elt in l_list that >= 1st elt of l_temp\n",
    "max_index=np.argmin(l_list<=l_temp[-1]) #index of the last elt in l_list that <= last elt of l_temp\n",
    "print(min_index,max_index)\n",
    "truncated_l = l_list[min_index:max_index]\n",
    "print(truncated_l)\n",
    "leftpaddedl = np.pad(truncated_l, (min_index,0), 'constant')\n",
    "print(leftpaddedl)\n",
    "fullypaddedl = np.pad(leftpaddedl, (0,len(l_list)-len(leftpaddedl)), 'constant')\n",
    "print(fullypaddedl)\n",
    "print(l_list)\n",
    "np.searchsorted(l_temp, l_temp[0])+1"
   ]
  },
  {
   "cell_type": "code",
   "execution_count": 168,
   "metadata": {},
   "outputs": [
    {
     "data": {
      "text/plain": [
       "True"
      ]
     },
     "execution_count": 168,
     "metadata": {},
     "output_type": "execute_result"
    }
   ],
   "source": [
    "min(test_max) == True"
   ]
  },
  {
   "cell_type": "code",
   "execution_count": 110,
   "metadata": {},
   "outputs": [
    {
     "data": {
      "text/plain": [
       "5.1"
      ]
     },
     "execution_count": 110,
     "metadata": {},
     "output_type": "execute_result"
    }
   ],
   "source": [
    "l_temp[-1]"
   ]
  },
  {
   "cell_type": "code",
   "execution_count": 90,
   "metadata": {},
   "outputs": [
    {
     "data": {
      "text/plain": [
       "array([0, 1, 2, 3, 4, 5, 6, 7, 8, 9])"
      ]
     },
     "execution_count": 90,
     "metadata": {},
     "output_type": "execute_result"
    }
   ],
   "source": [
    "np.arange(0,10)"
   ]
  },
  {
   "cell_type": "code",
   "execution_count": 95,
   "metadata": {},
   "outputs": [
    {
     "data": {
      "text/plain": [
       "array([0.00998495, 0.05994535, 0.10909291, 0.15739251, 0.20481373,\n",
       "       0.25133099, 0.29692358, 0.3415756 , 0.38527581, 0.42801738,\n",
       "       0.46979764, 0.51061773, 0.55048228, 0.58939902, 0.62737842,\n",
       "       0.66443336, 0.70057874, 0.7358312 , 0.77020879, 0.80373067,\n",
       "       0.8364169 , 0.8682882 , 0.89936573, 0.92967093, 0.95922535,\n",
       "       0.98805054, 1.01616793, 1.04359872, 1.0703638 , 1.09648373,\n",
       "       1.12197861, 1.14686812, 1.17117144, 1.19490721, 1.21809359,\n",
       "       1.24074815, 1.26288795, 1.28452948, 1.3056887 , 1.32638104,\n",
       "       1.34662137, 1.36642407, 1.38580298, 1.40477148, 1.42334244,\n",
       "       1.44152826, 1.45934089, 1.47679185, 1.49389223, 1.5106527 ,\n",
       "       1.52708354, 1.54319464, 1.55899555, 1.57449544, 1.58970315,\n",
       "       1.6046272 , 1.61927578, 1.6336568 , 1.64777788, 1.66164635,\n",
       "       1.67526927, 1.68865348, 1.70180553, 1.71473177, 1.72743831,\n",
       "       1.73993105, 1.75221568, 1.76429769, 1.7761824 , 1.78787491,\n",
       "       1.79938017, 1.81070297, 1.82184791, 1.83281946, 1.84362194,\n",
       "       1.85425951, 1.86473622, 1.87505595, 1.88522249, 1.8952395 ])"
      ]
     },
     "execution_count": 95,
     "metadata": {},
     "output_type": "execute_result"
    }
   ],
   "source": [
    "chi_interp"
   ]
  },
  {
   "cell_type": "code",
   "execution_count": null,
   "metadata": {},
   "outputs": [],
   "source": []
  }
 ],
 "metadata": {
  "kernelspec": {
   "display_name": "Python 3",
   "language": "python",
   "name": "python3"
  },
  "language_info": {
   "codemirror_mode": {
    "name": "ipython",
    "version": 3
   },
   "file_extension": ".py",
   "mimetype": "text/x-python",
   "name": "python",
   "nbconvert_exporter": "python",
   "pygments_lexer": "ipython3",
   "version": "3.8.3"
  }
 },
 "nbformat": 4,
 "nbformat_minor": 4
}
