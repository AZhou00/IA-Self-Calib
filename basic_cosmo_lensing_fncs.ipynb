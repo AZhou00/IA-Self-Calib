{
 "cells": [
  {
   "cell_type": "code",
   "execution_count": 9,
   "metadata": {},
   "outputs": [
    {
     "name": "stdout",
     "output_type": "stream",
     "text": [
      "Overwriting basic_cosmo_lensing_fncs.py\n"
     ]
    }
   ],
   "source": [
    "%%writefile 'basic_cosmo_lensing_fncs.py'\n",
    "def get_basic_cosmo_lensing(Omega0,OmegaLambda,Omegak,z_list,outputpath):\n",
    "    \n",
    "    import os,sys\n",
    "    import numpy as np\n",
    "    import scipy as sp\n",
    "    import scipy.integrate as intg\n",
    "    import io_fncs\n",
    "    from matplotlib import pyplot as plt\n",
    "    \n",
    "    \"\"\"\n",
    "    save chi(the cmv distance in c/H0 unit)\n",
    "    save W_L(the lensing kernel, with chi in the above mentioned unit)\n",
    "    save their plots\n",
    "    \n",
    "    functions of z_list, mid bin, bins are as defined in n_z\n",
    "    \n",
    "    \"\"\"\n",
    "    io_fncs.create_dir(os.path.join(outputpath,'basic_fncs'))\n",
    "    \n",
    "    #comoving distance function, in unit of c/H0\n",
    "    #Troxel and Ishak 2014 equation (8) without the factor of H0\n",
    "    chi_list = np.array([],dtype='float64')\n",
    "    def chi_integrand(z):\n",
    "        return 1/np.sqrt(Omega0*(1+z)**3+Omegak*(1+z)**2+OmegaLambda)\n",
    "    def chi(z):\n",
    "        return intg.quad(chi_integrand,0,z)[0]\n",
    "    for z in z_list: chi_list = np.append(chi_list,chi(z))\n",
    "    plt.plot(z_list, chi_list)\n",
    "    plt.xlabel('redshift z')\n",
    "    plt.ylabel('comoving distance chi(z) \\n Omega0=%1.2f, OmegaLambda=%1.2f' %(Omega0,OmegaLambda))\n",
    "    plt.savefig(os.path.join(outputpath,'basic_fncs/chi.png'))\n",
    "    plt.close()\n",
    "    # Lensing Kernel List\n",
    "    # W_L_list[z_list,z_list]\n",
    "    W_L_list = np.empty((len(z_list),len(z_list)),dtype='float64')\n",
    "    for z_G_index in range(len(z_list)):\n",
    "        chi_G = chi_list[z_G_index]\n",
    "        W_L_list[z_G_index] = 1.5*Omega0*(1+z_list)*chi_list*(1-chi_list/chi_G)\n",
    "    W_L_list[W_L_list<0]=0 #set negative entries to 0 (eqv. set chi_L>chi_G entries to 0)\n",
    "    #test = W_L_list.clip(min=0) This is slightly slower than the above method\n",
    "    test_redshift_index = int(1.2/(z_list[1]-z_list[0]))\n",
    "    plt.plot(z_list, W_L_list[test_redshift_index])\n",
    "    plt.xlabel('redshift z')\n",
    "    plt.ylabel('lensing kernel W_L with source z_G=%1.4f' %(z_list[test_redshift_index]))\n",
    "    plt.savefig(os.path.join(outputpath,'basic_fncs/W_L.png'))\n",
    "    plt.close()\n",
    "    return [chi_list,W_L_list]"
   ]
  },
  {
   "cell_type": "code",
   "execution_count": null,
   "metadata": {},
   "outputs": [],
   "source": []
  }
 ],
 "metadata": {
  "kernelspec": {
   "display_name": "Python 3",
   "language": "python",
   "name": "python3"
  },
  "language_info": {
   "codemirror_mode": {
    "name": "ipython",
    "version": 3
   },
   "file_extension": ".py",
   "mimetype": "text/x-python",
   "name": "python",
   "nbconvert_exporter": "python",
   "pygments_lexer": "ipython3",
   "version": "3.8.1"
  }
 },
 "nbformat": 4,
 "nbformat_minor": 4
}
