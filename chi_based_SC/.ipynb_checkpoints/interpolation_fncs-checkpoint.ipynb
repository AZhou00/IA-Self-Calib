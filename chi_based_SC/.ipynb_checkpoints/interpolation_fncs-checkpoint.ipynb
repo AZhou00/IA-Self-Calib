{
 "cells": [
  {
   "cell_type": "code",
   "execution_count": 4,
   "metadata": {},
   "outputs": [
    {
     "name": "stdout",
     "output_type": "stream",
     "text": [
      "Writing interpolation_fncs.py\n"
     ]
    }
   ],
   "source": [
    "%%writefile interpolation_fncs.py\n",
    "#Interpolation functions - 1D and 2D\n",
    "\n",
    "def interpolate_1d(y_old,x_old,x_new,method='cubic'):\n",
    "    \"\"\"\n",
    "    y_old is the function value f[x](1D array) evaluated on x=x_old(1D array).\n",
    "    \n",
    "    return interpolated f[x] evaluated on x = x_new.\n",
    "    \"\"\"\n",
    "    import numpy as np\n",
    "    from scipy.interpolate import interp1d\n",
    "    if (min(x_new) < min(x_old)) or (max(x_new) > max(x_old)):\n",
    "        raise ValueError('new x axis extends beyond the old x axis')\n",
    "        \n",
    "    f = interp1d(x_old, y_old, kind = method)\n",
    "    y_new = f(x_new)\n",
    "    \n",
    "    return y_new\n",
    "\n",
    "def interpolate_2d(z_old,y_old,x_old,y_new,x_new,method='cubic'):\n",
    "    \"\"\"\n",
    "    z_old is the function value f[y,x](2D array) evaluated on y=y_old(1D array), x=x_old(1D array).\n",
    "    \n",
    "    return interpolated f[y,x] evaluated on y=y_new, x=x_new.\n",
    "    \"\"\"\n",
    "    import numpy as np\n",
    "    from scipy.interpolate import griddata\n",
    "    if (min(y_new) < min(y_old)) or (max(y_new) > max(y_old)):\n",
    "        raise ValueError('new y axis extends beyond the old y axis')\n",
    "    if (min(x_new) < min(x_old)) or (max(x_new) > max(x_old)):\n",
    "        raise ValueError('new x axis extends beyond the old x axis')\n",
    "        \n",
    "    #converts the original z.shape=(leny,lenx) format to z as a list of points (y0,x0),(y1,x1)\n",
    "    mesh = np.array(np.meshgrid(y_old, x_old))\n",
    "    points = mesh.T.reshape(-1, 2)\n",
    "    values = z_old.flatten()\n",
    "    \n",
    "    y_new_mesh, x_new_mesh = np.meshgrid(x_new,y_new)\n",
    "    z_new = griddata(points, values, (x_new_mesh,y_new_mesh), method=method)\n",
    "    \n",
    "    return z_new"
   ]
  },
  {
   "cell_type": "code",
   "execution_count": null,
   "metadata": {},
   "outputs": [],
   "source": []
  }
 ],
 "metadata": {
  "kernelspec": {
   "display_name": "Python 3",
   "language": "python",
   "name": "python3"
  },
  "language_info": {
   "codemirror_mode": {
    "name": "ipython",
    "version": 3
   },
   "file_extension": ".py",
   "mimetype": "text/x-python",
   "name": "python",
   "nbconvert_exporter": "python",
   "pygments_lexer": "ipython3",
   "version": "3.8.1"
  }
 },
 "nbformat": 4,
 "nbformat_minor": 4
}
